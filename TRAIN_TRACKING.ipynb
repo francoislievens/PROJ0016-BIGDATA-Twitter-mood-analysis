{
 "cells": [
  {
   "cell_type": "code",
   "execution_count": 12,
   "id": "bizarre-academy",
   "metadata": {},
   "outputs": [],
   "source": [
    "import pandas as pd\n",
    "import numpy as np\n",
    "import matplotlib.pyplot as plt\n",
    "path = 'D:/CamemBERT/Model/Final_Work/Tracking'"
   ]
  },
  {
   "cell_type": "code",
   "execution_count": 33,
   "id": "naked-smoke",
   "metadata": {},
   "outputs": [],
   "source": [
    "tot = pd.read_csv('{}/Total_Tracking.csv'.format(path), sep=';', header=None).to_numpy()[0:-2, :]\n",
    "x = np.asarray(tot[:, 1]) * 500\n",
    "epoch_array = []\n",
    "tmp = 0\n",
    "for i in range(tot.shape[0]):\n",
    "    if tot[i, 0] != tmp:\n",
    "        tmp = tot[i, 0]\n",
    "        epoch_array.append(i)\n",
    "    \n",
    "colors = ['red', 'yellow', 'lightgreen']\n",
    "plt.plot(x, tot[:, 3], c='red', label='Train Loss', linewidth=0.5)\n",
    "#plt.yscale('log')\n",
    "for itm in epoch_array:\n",
    "    plt.axvline(x=x[itm], label='Epoch {}'.format(int(tot[itm, 0])), c=colors[int(tot[itm, 0])])\n",
    "plt.legend()\n",
    "plt.xlabel('Number of input samples')\n",
    "plt.ylabel('Cross Entropy Loss')\n",
    "plt.title('CamemBERT mood classification fine-tuning: Train loss')\n",
    "#plt.show()\n",
    "plt.savefig('Figs/train_loss.png')\n",
    "plt.close()\n",
    "\n",
    "plt.plot(x, tot[:, 4], c='Green', label='Test Losss', linewidth=0.5)\n",
    "for itm in epoch_array:\n",
    "    plt.axvline(x=x[itm], label='Epoch {}'.format(int(tot[itm, 0])), c=colors[int(tot[itm, 0])])\n",
    "#plt.yscale('log')\n",
    "plt.legend()\n",
    "plt.xlabel('Number of input samples')\n",
    "plt.ylabel('Cross Entropy Loss')\n",
    "plt.title('CamemBERT mood classification fine-tuning: Test loss')\n",
    "plt.savefig('Figs/test_loss.png')\n",
    "#plt.show()\n",
    "plt.close()"
   ]
  },
  {
   "cell_type": "code",
   "execution_count": 27,
   "id": "prospective-turkey",
   "metadata": {},
   "outputs": [],
   "source": [
    "ep_tot = pd.read_csv('{}/Epoch_Tracking.csv'.format(path), sep=';', header=None).to_numpy()"
   ]
  },
  {
   "cell_type": "code",
   "execution_count": 28,
   "id": "congressional-guess",
   "metadata": {},
   "outputs": [
    {
     "data": {
      "text/plain": [
       "array([[0.        , 0.17060886, 0.16563794],\n",
       "       [1.        , 0.10117885, 0.10076085],\n",
       "       [2.        , 0.08754781, 0.09323059]])"
      ]
     },
     "execution_count": 28,
     "metadata": {},
     "output_type": "execute_result"
    }
   ],
   "source": [
    "ep_tot"
   ]
  },
  {
   "cell_type": "code",
   "execution_count": null,
   "id": "interior-ancient",
   "metadata": {},
   "outputs": [],
   "source": []
  }
 ],
 "metadata": {
  "kernelspec": {
   "display_name": "Python 3",
   "language": "python",
   "name": "python3"
  },
  "language_info": {
   "codemirror_mode": {
    "name": "ipython",
    "version": 3
   },
   "file_extension": ".py",
   "mimetype": "text/x-python",
   "name": "python",
   "nbconvert_exporter": "python",
   "pygments_lexer": "ipython3",
   "version": "3.8.8"
  }
 },
 "nbformat": 4,
 "nbformat_minor": 5
}
